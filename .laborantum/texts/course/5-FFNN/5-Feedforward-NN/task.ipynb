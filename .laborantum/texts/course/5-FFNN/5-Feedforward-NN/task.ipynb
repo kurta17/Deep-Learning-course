{
  "cells": [
    {
      "cell_type": "code",
      "execution_count": null,
      "metadata": {
        "colab": {
          "base_uri": "https://localhost:8080/"
        },
        "id": "NizoE81VOzrU",
        "outputId": "ccff1dd4-082b-4495-d2fd-e64f840bee1f"
      },
      "outputs": [
        {
          "name": "stdout",
          "output_type": "stream",
          "text": [
            "Collecting json_tricks\n",
            "  Downloading json_tricks-3.17.3-py2.py3-none-any.whl.metadata (16 kB)\n",
            "Downloading json_tricks-3.17.3-py2.py3-none-any.whl (27 kB)\n",
            "Installing collected packages: json_tricks\n",
            "Successfully installed json_tricks-3.17.3\n"
          ]
        }
      ],
      "source": [
        "# %pip install json_tricks\n"
      ]
    },
    {
      "cell_type": "code",
      "execution_count": null,
      "metadata": {
        "colab": {
          "base_uri": "https://localhost:8080/"
        },
        "id": "PAHS09ZxOyhm",
        "outputId": "c360930d-38bd-4553-9da6-1b508991c251"
      },
      "outputs": [
        {
          "name": "stdout",
          "output_type": "stream",
          "text": [
            "Collecting lovely_tensors\n",
            "  Downloading lovely_tensors-0.1.18-py3-none-any.whl.metadata (15 kB)\n",
            "Requirement already satisfied: torch in /usr/local/lib/python3.11/dist-packages (from lovely_tensors) (2.6.0+cu124)\n",
            "Collecting lovely-numpy>=0.2.13 (from lovely_tensors)\n",
            "  Downloading lovely_numpy-0.2.13-py3-none-any.whl.metadata (9.6 kB)\n",
            "Requirement already satisfied: numpy>=1.17 in /usr/local/lib/python3.11/dist-packages (from lovely-numpy>=0.2.13->lovely_tensors) (2.0.2)\n",
            "Requirement already satisfied: fastcore in /usr/local/lib/python3.11/dist-packages (from lovely-numpy>=0.2.13->lovely_tensors) (1.7.29)\n",
            "Requirement already satisfied: ipython in /usr/local/lib/python3.11/dist-packages (from lovely-numpy>=0.2.13->lovely_tensors) (7.34.0)\n",
            "Requirement already satisfied: matplotlib in /usr/local/lib/python3.11/dist-packages (from lovely-numpy>=0.2.13->lovely_tensors) (3.10.0)\n",
            "Requirement already satisfied: filelock in /usr/local/lib/python3.11/dist-packages (from torch->lovely_tensors) (3.18.0)\n",
            "Requirement already satisfied: typing-extensions>=4.10.0 in /usr/local/lib/python3.11/dist-packages (from torch->lovely_tensors) (4.14.0)\n",
            "Requirement already satisfied: networkx in /usr/local/lib/python3.11/dist-packages (from torch->lovely_tensors) (3.5)\n",
            "Requirement already satisfied: jinja2 in /usr/local/lib/python3.11/dist-packages (from torch->lovely_tensors) (3.1.6)\n",
            "Requirement already satisfied: fsspec in /usr/local/lib/python3.11/dist-packages (from torch->lovely_tensors) (2025.3.2)\n",
            "Collecting nvidia-cuda-nvrtc-cu12==12.4.127 (from torch->lovely_tensors)\n",
            "  Downloading nvidia_cuda_nvrtc_cu12-12.4.127-py3-none-manylinux2014_x86_64.whl.metadata (1.5 kB)\n",
            "Collecting nvidia-cuda-runtime-cu12==12.4.127 (from torch->lovely_tensors)\n",
            "  Downloading nvidia_cuda_runtime_cu12-12.4.127-py3-none-manylinux2014_x86_64.whl.metadata (1.5 kB)\n",
            "Collecting nvidia-cuda-cupti-cu12==12.4.127 (from torch->lovely_tensors)\n",
            "  Downloading nvidia_cuda_cupti_cu12-12.4.127-py3-none-manylinux2014_x86_64.whl.metadata (1.6 kB)\n",
            "Collecting nvidia-cudnn-cu12==9.1.0.70 (from torch->lovely_tensors)\n",
            "  Downloading nvidia_cudnn_cu12-9.1.0.70-py3-none-manylinux2014_x86_64.whl.metadata (1.6 kB)\n",
            "Collecting nvidia-cublas-cu12==12.4.5.8 (from torch->lovely_tensors)\n",
            "  Downloading nvidia_cublas_cu12-12.4.5.8-py3-none-manylinux2014_x86_64.whl.metadata (1.5 kB)\n",
            "Collecting nvidia-cufft-cu12==11.2.1.3 (from torch->lovely_tensors)\n",
            "  Downloading nvidia_cufft_cu12-11.2.1.3-py3-none-manylinux2014_x86_64.whl.metadata (1.5 kB)\n",
            "Collecting nvidia-curand-cu12==10.3.5.147 (from torch->lovely_tensors)\n",
            "  Downloading nvidia_curand_cu12-10.3.5.147-py3-none-manylinux2014_x86_64.whl.metadata (1.5 kB)\n",
            "Collecting nvidia-cusolver-cu12==11.6.1.9 (from torch->lovely_tensors)\n",
            "  Downloading nvidia_cusolver_cu12-11.6.1.9-py3-none-manylinux2014_x86_64.whl.metadata (1.6 kB)\n",
            "Collecting nvidia-cusparse-cu12==12.3.1.170 (from torch->lovely_tensors)\n",
            "  Downloading nvidia_cusparse_cu12-12.3.1.170-py3-none-manylinux2014_x86_64.whl.metadata (1.6 kB)\n",
            "Requirement already satisfied: nvidia-cusparselt-cu12==0.6.2 in /usr/local/lib/python3.11/dist-packages (from torch->lovely_tensors) (0.6.2)\n",
            "Requirement already satisfied: nvidia-nccl-cu12==2.21.5 in /usr/local/lib/python3.11/dist-packages (from torch->lovely_tensors) (2.21.5)\n",
            "Requirement already satisfied: nvidia-nvtx-cu12==12.4.127 in /usr/local/lib/python3.11/dist-packages (from torch->lovely_tensors) (12.4.127)\n",
            "Collecting nvidia-nvjitlink-cu12==12.4.127 (from torch->lovely_tensors)\n",
            "  Downloading nvidia_nvjitlink_cu12-12.4.127-py3-none-manylinux2014_x86_64.whl.metadata (1.5 kB)\n",
            "Requirement already satisfied: triton==3.2.0 in /usr/local/lib/python3.11/dist-packages (from torch->lovely_tensors) (3.2.0)\n",
            "Requirement already satisfied: sympy==1.13.1 in /usr/local/lib/python3.11/dist-packages (from torch->lovely_tensors) (1.13.1)\n",
            "Requirement already satisfied: mpmath<1.4,>=1.1.0 in /usr/local/lib/python3.11/dist-packages (from sympy==1.13.1->torch->lovely_tensors) (1.3.0)\n",
            "Requirement already satisfied: packaging in /usr/local/lib/python3.11/dist-packages (from fastcore->lovely-numpy>=0.2.13->lovely_tensors) (24.2)\n",
            "Requirement already satisfied: setuptools>=18.5 in /usr/local/lib/python3.11/dist-packages (from ipython->lovely-numpy>=0.2.13->lovely_tensors) (75.2.0)\n",
            "Collecting jedi>=0.16 (from ipython->lovely-numpy>=0.2.13->lovely_tensors)\n",
            "  Downloading jedi-0.19.2-py2.py3-none-any.whl.metadata (22 kB)\n",
            "Requirement already satisfied: decorator in /usr/local/lib/python3.11/dist-packages (from ipython->lovely-numpy>=0.2.13->lovely_tensors) (4.4.2)\n",
            "Requirement already satisfied: pickleshare in /usr/local/lib/python3.11/dist-packages (from ipython->lovely-numpy>=0.2.13->lovely_tensors) (0.7.5)\n",
            "Requirement already satisfied: traitlets>=4.2 in /usr/local/lib/python3.11/dist-packages (from ipython->lovely-numpy>=0.2.13->lovely_tensors) (5.7.1)\n",
            "Requirement already satisfied: prompt-toolkit!=3.0.0,!=3.0.1,<3.1.0,>=2.0.0 in /usr/local/lib/python3.11/dist-packages (from ipython->lovely-numpy>=0.2.13->lovely_tensors) (3.0.51)\n",
            "Requirement already satisfied: pygments in /usr/local/lib/python3.11/dist-packages (from ipython->lovely-numpy>=0.2.13->lovely_tensors) (2.19.1)\n",
            "Requirement already satisfied: backcall in /usr/local/lib/python3.11/dist-packages (from ipython->lovely-numpy>=0.2.13->lovely_tensors) (0.2.0)\n",
            "Requirement already satisfied: matplotlib-inline in /usr/local/lib/python3.11/dist-packages (from ipython->lovely-numpy>=0.2.13->lovely_tensors) (0.1.7)\n",
            "Requirement already satisfied: pexpect>4.3 in /usr/local/lib/python3.11/dist-packages (from ipython->lovely-numpy>=0.2.13->lovely_tensors) (4.9.0)\n",
            "Requirement already satisfied: MarkupSafe>=2.0 in /usr/local/lib/python3.11/dist-packages (from jinja2->torch->lovely_tensors) (3.0.2)\n",
            "Requirement already satisfied: contourpy>=1.0.1 in /usr/local/lib/python3.11/dist-packages (from matplotlib->lovely-numpy>=0.2.13->lovely_tensors) (1.3.2)\n",
            "Requirement already satisfied: cycler>=0.10 in /usr/local/lib/python3.11/dist-packages (from matplotlib->lovely-numpy>=0.2.13->lovely_tensors) (0.12.1)\n",
            "Requirement already satisfied: fonttools>=4.22.0 in /usr/local/lib/python3.11/dist-packages (from matplotlib->lovely-numpy>=0.2.13->lovely_tensors) (4.58.1)\n",
            "Requirement already satisfied: kiwisolver>=1.3.1 in /usr/local/lib/python3.11/dist-packages (from matplotlib->lovely-numpy>=0.2.13->lovely_tensors) (1.4.8)\n",
            "Requirement already satisfied: pillow>=8 in /usr/local/lib/python3.11/dist-packages (from matplotlib->lovely-numpy>=0.2.13->lovely_tensors) (11.2.1)\n",
            "Requirement already satisfied: pyparsing>=2.3.1 in /usr/local/lib/python3.11/dist-packages (from matplotlib->lovely-numpy>=0.2.13->lovely_tensors) (3.2.3)\n",
            "Requirement already satisfied: python-dateutil>=2.7 in /usr/local/lib/python3.11/dist-packages (from matplotlib->lovely-numpy>=0.2.13->lovely_tensors) (2.9.0.post0)\n",
            "Requirement already satisfied: parso<0.9.0,>=0.8.4 in /usr/local/lib/python3.11/dist-packages (from jedi>=0.16->ipython->lovely-numpy>=0.2.13->lovely_tensors) (0.8.4)\n",
            "Requirement already satisfied: ptyprocess>=0.5 in /usr/local/lib/python3.11/dist-packages (from pexpect>4.3->ipython->lovely-numpy>=0.2.13->lovely_tensors) (0.7.0)\n",
            "Requirement already satisfied: wcwidth in /usr/local/lib/python3.11/dist-packages (from prompt-toolkit!=3.0.0,!=3.0.1,<3.1.0,>=2.0.0->ipython->lovely-numpy>=0.2.13->lovely_tensors) (0.2.13)\n",
            "Requirement already satisfied: six>=1.5 in /usr/local/lib/python3.11/dist-packages (from python-dateutil>=2.7->matplotlib->lovely-numpy>=0.2.13->lovely_tensors) (1.17.0)\n",
            "Downloading lovely_tensors-0.1.18-py3-none-any.whl (19 kB)\n",
            "Downloading lovely_numpy-0.2.13-py3-none-any.whl (24 kB)\n",
            "Downloading nvidia_cublas_cu12-12.4.5.8-py3-none-manylinux2014_x86_64.whl (363.4 MB)\n",
            "\u001b[2K   \u001b[90m━━━━━━━━━━━━━━━━━━━━━━━━━━━━━━━━━━━━━━━━\u001b[0m \u001b[32m363.4/363.4 MB\u001b[0m \u001b[31m4.2 MB/s\u001b[0m eta \u001b[36m0:00:00\u001b[0m\n",
            "\u001b[?25hDownloading nvidia_cuda_cupti_cu12-12.4.127-py3-none-manylinux2014_x86_64.whl (13.8 MB)\n",
            "\u001b[2K   \u001b[90m━━━━━━━━━━━━━━━━━━━━━━━━━━━━━━━━━━━━━━━━\u001b[0m \u001b[32m13.8/13.8 MB\u001b[0m \u001b[31m53.6 MB/s\u001b[0m eta \u001b[36m0:00:00\u001b[0m\n",
            "\u001b[?25hDownloading nvidia_cuda_nvrtc_cu12-12.4.127-py3-none-manylinux2014_x86_64.whl (24.6 MB)\n",
            "\u001b[2K   \u001b[90m━━━━━━━━━━━━━━━━━━━━━━━━━━━━━━━━━━━━━━━━\u001b[0m \u001b[32m24.6/24.6 MB\u001b[0m \u001b[31m36.3 MB/s\u001b[0m eta \u001b[36m0:00:00\u001b[0m\n",
            "\u001b[?25hDownloading nvidia_cuda_runtime_cu12-12.4.127-py3-none-manylinux2014_x86_64.whl (883 kB)\n",
            "\u001b[2K   \u001b[90m━━━━━━━━━━━━━━━━━━━━━━━━━━━━━━━━━━━━━━━━\u001b[0m \u001b[32m883.7/883.7 kB\u001b[0m \u001b[31m60.8 MB/s\u001b[0m eta \u001b[36m0:00:00\u001b[0m\n",
            "\u001b[?25hDownloading nvidia_cudnn_cu12-9.1.0.70-py3-none-manylinux2014_x86_64.whl (664.8 MB)\n",
            "\u001b[2K   \u001b[90m━━━━━━━━━━━━━━━━━━━━━━━━━━━━━━━━━━━━━━━━\u001b[0m \u001b[32m664.8/664.8 MB\u001b[0m \u001b[31m3.0 MB/s\u001b[0m eta \u001b[36m0:00:00\u001b[0m\n",
            "\u001b[?25hDownloading nvidia_cufft_cu12-11.2.1.3-py3-none-manylinux2014_x86_64.whl (211.5 MB)\n",
            "\u001b[2K   \u001b[90m━━━━━━━━━━━━━━━━━━━━━━━━━━━━━━━━━━━━━━━━\u001b[0m \u001b[32m211.5/211.5 MB\u001b[0m \u001b[31m5.5 MB/s\u001b[0m eta \u001b[36m0:00:00\u001b[0m\n",
            "\u001b[?25hDownloading nvidia_curand_cu12-10.3.5.147-py3-none-manylinux2014_x86_64.whl (56.3 MB)\n",
            "\u001b[2K   \u001b[90m━━━━━━━━━━━━━━━━━━━━━━━━━━━━━━━━━━━━━━━━\u001b[0m \u001b[32m56.3/56.3 MB\u001b[0m \u001b[31m12.8 MB/s\u001b[0m eta \u001b[36m0:00:00\u001b[0m\n",
            "\u001b[?25hDownloading nvidia_cusolver_cu12-11.6.1.9-py3-none-manylinux2014_x86_64.whl (127.9 MB)\n",
            "\u001b[2K   \u001b[90m━━━━━━━━━━━━━━━━━━━━━━━━━━━━━━━━━━━━━━━━\u001b[0m \u001b[32m127.9/127.9 MB\u001b[0m \u001b[31m7.5 MB/s\u001b[0m eta \u001b[36m0:00:00\u001b[0m\n",
            "\u001b[?25hDownloading nvidia_cusparse_cu12-12.3.1.170-py3-none-manylinux2014_x86_64.whl (207.5 MB)\n",
            "\u001b[2K   \u001b[90m━━━━━━━━━━━━━━━━━━━━━━━━━━━━━━━━━━━━━━━━\u001b[0m \u001b[32m207.5/207.5 MB\u001b[0m \u001b[31m5.6 MB/s\u001b[0m eta \u001b[36m0:00:00\u001b[0m\n",
            "\u001b[?25hDownloading nvidia_nvjitlink_cu12-12.4.127-py3-none-manylinux2014_x86_64.whl (21.1 MB)\n",
            "\u001b[2K   \u001b[90m━━━━━━━━━━━━━━━━━━━━━━━━━━━━━━━━━━━━━━━━\u001b[0m \u001b[32m21.1/21.1 MB\u001b[0m \u001b[31m83.3 MB/s\u001b[0m eta \u001b[36m0:00:00\u001b[0m\n",
            "\u001b[?25hDownloading jedi-0.19.2-py2.py3-none-any.whl (1.6 MB)\n",
            "\u001b[2K   \u001b[90m━━━━━━━━━━━━━━━━━━━━━━━━━━━━━━━━━━━━━━━━\u001b[0m \u001b[32m1.6/1.6 MB\u001b[0m \u001b[31m60.4 MB/s\u001b[0m eta \u001b[36m0:00:00\u001b[0m\n",
            "\u001b[?25hInstalling collected packages: nvidia-nvjitlink-cu12, nvidia-curand-cu12, nvidia-cufft-cu12, nvidia-cuda-runtime-cu12, nvidia-cuda-nvrtc-cu12, nvidia-cuda-cupti-cu12, nvidia-cublas-cu12, jedi, nvidia-cusparse-cu12, nvidia-cudnn-cu12, nvidia-cusolver-cu12, lovely-numpy, lovely_tensors\n",
            "  Attempting uninstall: nvidia-nvjitlink-cu12\n",
            "    Found existing installation: nvidia-nvjitlink-cu12 12.5.82\n",
            "    Uninstalling nvidia-nvjitlink-cu12-12.5.82:\n",
            "      Successfully uninstalled nvidia-nvjitlink-cu12-12.5.82\n",
            "  Attempting uninstall: nvidia-curand-cu12\n",
            "    Found existing installation: nvidia-curand-cu12 10.3.6.82\n",
            "    Uninstalling nvidia-curand-cu12-10.3.6.82:\n",
            "      Successfully uninstalled nvidia-curand-cu12-10.3.6.82\n",
            "  Attempting uninstall: nvidia-cufft-cu12\n",
            "    Found existing installation: nvidia-cufft-cu12 11.2.3.61\n",
            "    Uninstalling nvidia-cufft-cu12-11.2.3.61:\n",
            "      Successfully uninstalled nvidia-cufft-cu12-11.2.3.61\n",
            "  Attempting uninstall: nvidia-cuda-runtime-cu12\n",
            "    Found existing installation: nvidia-cuda-runtime-cu12 12.5.82\n",
            "    Uninstalling nvidia-cuda-runtime-cu12-12.5.82:\n",
            "      Successfully uninstalled nvidia-cuda-runtime-cu12-12.5.82\n",
            "  Attempting uninstall: nvidia-cuda-nvrtc-cu12\n",
            "    Found existing installation: nvidia-cuda-nvrtc-cu12 12.5.82\n",
            "    Uninstalling nvidia-cuda-nvrtc-cu12-12.5.82:\n",
            "      Successfully uninstalled nvidia-cuda-nvrtc-cu12-12.5.82\n",
            "  Attempting uninstall: nvidia-cuda-cupti-cu12\n",
            "    Found existing installation: nvidia-cuda-cupti-cu12 12.5.82\n",
            "    Uninstalling nvidia-cuda-cupti-cu12-12.5.82:\n",
            "      Successfully uninstalled nvidia-cuda-cupti-cu12-12.5.82\n",
            "  Attempting uninstall: nvidia-cublas-cu12\n",
            "    Found existing installation: nvidia-cublas-cu12 12.5.3.2\n",
            "    Uninstalling nvidia-cublas-cu12-12.5.3.2:\n",
            "      Successfully uninstalled nvidia-cublas-cu12-12.5.3.2\n",
            "  Attempting uninstall: nvidia-cusparse-cu12\n",
            "    Found existing installation: nvidia-cusparse-cu12 12.5.1.3\n",
            "    Uninstalling nvidia-cusparse-cu12-12.5.1.3:\n",
            "      Successfully uninstalled nvidia-cusparse-cu12-12.5.1.3\n",
            "  Attempting uninstall: nvidia-cudnn-cu12\n",
            "    Found existing installation: nvidia-cudnn-cu12 9.3.0.75\n",
            "    Uninstalling nvidia-cudnn-cu12-9.3.0.75:\n",
            "      Successfully uninstalled nvidia-cudnn-cu12-9.3.0.75\n",
            "  Attempting uninstall: nvidia-cusolver-cu12\n",
            "    Found existing installation: nvidia-cusolver-cu12 11.6.3.83\n",
            "    Uninstalling nvidia-cusolver-cu12-11.6.3.83:\n",
            "      Successfully uninstalled nvidia-cusolver-cu12-11.6.3.83\n",
            "Successfully installed jedi-0.19.2 lovely-numpy-0.2.13 lovely_tensors-0.1.18 nvidia-cublas-cu12-12.4.5.8 nvidia-cuda-cupti-cu12-12.4.127 nvidia-cuda-nvrtc-cu12-12.4.127 nvidia-cuda-runtime-cu12-12.4.127 nvidia-cudnn-cu12-9.1.0.70 nvidia-cufft-cu12-11.2.1.3 nvidia-curand-cu12-10.3.5.147 nvidia-cusolver-cu12-11.6.1.9 nvidia-cusparse-cu12-12.3.1.170 nvidia-nvjitlink-cu12-12.4.127\n"
          ]
        }
      ],
      "source": [
        "# %pip install lovely_tensors\n"
      ]
    },
    {
      "cell_type": "code",
      "execution_count": 5,
      "metadata": {
        "id": "DWr6cvb9pS3J"
      },
      "outputs": [],
      "source": [
        "import torch\n",
        "import random\n",
        "import numpy as np\n",
        "import json_tricks\n",
        "import lovely_tensors as lt\n",
        "\n",
        "lt.monkey_patch()\n",
        "\n",
        "random.seed(0)\n",
        "np.random.seed(0)\n",
        "torch.manual_seed(0)\n",
        "torch.cuda.manual_seed(0)\n",
        "torch.backends.cudnn.deterministic = True\n",
        "\n",
        "answer = {}"
      ]
    },
    {
      "cell_type": "markdown",
      "metadata": {
        "id": "pG_ccG8TOnSR"
      },
      "source": [
        "# Training a Fully Connected Feedforward Neural Network"
      ]
    },
    {
      "cell_type": "markdown",
      "metadata": {
        "id": "Nec8JR-hOnSS"
      },
      "source": [
        "In this exercise we will train a 2-layer FCNN to classify digits into 10 classes (0, 1, 2, ..., 9).\n",
        "\n",
        "To build such network, we will use:\n",
        "- Fully Connected NN\n",
        "- Adam Optimizer\n",
        "- MNIST dataset\n",
        "- Accuracy metrics\n",
        "- Softmax final activation loss function (but we will embed it into the loss function)\n",
        "- Cross-Entropy loss"
      ]
    },
    {
      "cell_type": "markdown",
      "metadata": {
        "id": "XR7zdwfcOnSS"
      },
      "source": [
        "# Task 1: Prepare the data\n",
        "\n",
        "Firstly, prepare MNIST dataset. We will use `torchvision.datasets.MNIST` for that.\n",
        "\n",
        "You have to download train and test datasets and visualize some of the images."
      ]
    },
    {
      "cell_type": "code",
      "execution_count": 6,
      "metadata": {
        "colab": {
          "base_uri": "https://localhost:8080/"
        },
        "id": "MqGQWTDIpS3R",
        "outputId": "0f875fd9-ebec-4530-fcfc-f789805af334"
      },
      "outputs": [
        {
          "name": "stderr",
          "output_type": "stream",
          "text": [
            "100%|██████████| 9.91M/9.91M [00:01<00:00, 4.96MB/s]\n",
            "100%|██████████| 28.9k/28.9k [00:00<00:00, 132kB/s]\n",
            "100%|██████████| 1.65M/1.65M [00:06<00:00, 240kB/s]\n",
            "100%|██████████| 4.54k/4.54k [00:00<00:00, 8.31MB/s]"
          ]
        },
        {
          "name": "stdout",
          "output_type": "stream",
          "text": [
            "Dataset MNIST\n",
            "    Number of datapoints: 60000\n",
            "    Root location: ./data\n",
            "    Split: Train\n"
          ]
        },
        {
          "name": "stderr",
          "output_type": "stream",
          "text": [
            "\n"
          ]
        }
      ],
      "source": [
        "import torchvision.datasets\n",
        "MNIST_train = torchvision.datasets.MNIST(root='./data', train=True, download=True, transform=None)\n",
        "MNIST_test = torchvision.datasets.MNIST(root='./data', train=False, download=True, transform=None)\n",
        "\n",
        "print(MNIST_train)\n",
        "\n"
      ]
    },
    {
      "cell_type": "markdown",
      "metadata": {
        "id": "Hb_MagohOnST"
      },
      "source": [
        "Check that the data is prepared:"
      ]
    },
    {
      "cell_type": "code",
      "execution_count": 7,
      "metadata": {
        "colab": {
          "base_uri": "https://localhost:8080/"
        },
        "id": "vv_Lz7PYpS3U",
        "outputId": "211dd908-01fa-430e-a473-0e17be0c296e"
      },
      "outputs": [
        {
          "name": "stderr",
          "output_type": "stream",
          "text": [
            "/usr/local/lib/python3.11/dist-packages/torchvision/datasets/mnist.py:76: UserWarning: train_data has been renamed data\n",
            "  warnings.warn(\"train_data has been renamed data\")\n",
            "/usr/local/lib/python3.11/dist-packages/torchvision/datasets/mnist.py:66: UserWarning: train_labels has been renamed targets\n",
            "  warnings.warn(\"train_labels has been renamed targets\")\n",
            "/usr/local/lib/python3.11/dist-packages/torchvision/datasets/mnist.py:81: UserWarning: test_data has been renamed data\n",
            "  warnings.warn(\"test_data has been renamed data\")\n",
            "/usr/local/lib/python3.11/dist-packages/torchvision/datasets/mnist.py:71: UserWarning: test_labels has been renamed targets\n",
            "  warnings.warn(\"test_labels has been renamed targets\")\n"
          ]
        }
      ],
      "source": [
        "X_train = MNIST_train.train_data\n",
        "y_train = MNIST_train.train_labels\n",
        "X_test = MNIST_test.test_data\n",
        "y_test = MNIST_test.test_labels"
      ]
    },
    {
      "cell_type": "code",
      "execution_count": 8,
      "metadata": {
        "colab": {
          "base_uri": "https://localhost:8080/"
        },
        "id": "hMhsAedlrQF5",
        "outputId": "2eca8d09-bed5-4c18-93a9-c333be199f99"
      },
      "outputs": [
        {
          "name": "stdout",
          "output_type": "stream",
          "text": [
            "torch.uint8 torch.uint8 torch.int64 torch.int64\n",
            "torch.Size([60000, 28, 28]) torch.Size([10000, 28, 28]) torch.Size([60000]) torch.Size([10000])\n",
            "tensor[60000, 28, 28] u8 n=47040000 (45Mb) x∈[0, 255] μ=33.318 σ=78.567\n",
            "tensor[10000, 28, 28] u8 n=7840000 (7.5Mb) x∈[0, 255] μ=33.791 σ=79.172\n",
            "tensor[60000] i64 0.5Mb x∈[0, 9] μ=4.454 σ=2.889\n",
            "tensor[10000] i64 78Kb x∈[0, 9] μ=4.443 σ=2.896\n"
          ]
        }
      ],
      "source": [
        "answer['X_train.dtype'] = str(X_train.dtype)\n",
        "answer['y_train.dtype'] = str(y_train.dtype)\n",
        "answer['X_train.shape'] = X_train.shape\n",
        "answer['X_test.shape'] = X_test.shape\n",
        "answer['y_train.shape'] = y_train.shape\n",
        "answer['y_test.shape'] = y_test.shape\n",
        "\n",
        "print(X_train.dtype, X_test.dtype, y_train.dtype, y_test.dtype)\n",
        "print(X_train.shape, X_test.shape, y_train.shape, y_test.shape)\n",
        "\n",
        "print(X_train)\n",
        "print(X_test)\n",
        "print(y_train)\n",
        "print(y_test)\n"
      ]
    },
    {
      "cell_type": "markdown",
      "metadata": {
        "id": "jSkMHULZOnST"
      },
      "source": [
        "Neural networks are usually trained in float values. Usually in `float32` or `float16`. In this exercise we will use `float32` precision.\n",
        "\n",
        "Convert your data to `float` type"
      ]
    },
    {
      "cell_type": "code",
      "execution_count": 9,
      "metadata": {
        "id": "_yTaVOrPvap6"
      },
      "outputs": [],
      "source": [
        "X_train = X_train.float()\n",
        "X_test = X_test.float()\n",
        "# YOUR CODE HERE\n"
      ]
    },
    {
      "cell_type": "code",
      "execution_count": 10,
      "metadata": {
        "id": "_gfupg4kpS3X"
      },
      "outputs": [],
      "source": [
        "answer['X_train.dtype2'] = str(X_train.dtype)\n",
        "answer['X_test.dtype2'] = str(X_test.dtype)\n"
      ]
    },
    {
      "cell_type": "markdown",
      "metadata": {
        "id": "xredG6ysOnSU"
      },
      "source": [
        "Let us visualize the data that we have"
      ]
    },
    {
      "cell_type": "code",
      "execution_count": 15,
      "metadata": {
        "colab": {
          "base_uri": "https://localhost:8080/",
          "height": 465
        },
        "id": "Z1tFXMwJpS3e",
        "outputId": "35df7fad-130b-42ab-93f5-8bc2a47a2323"
      },
      "outputs": [
        {
          "data": {
            "image/png": "[encoded data removed]",
            "text/plain": [
              "<Figure size 640x480 with 1 Axes>"
            ]
          },
          "metadata": {},
          "output_type": "display_data"
        },
        {
          "name": "stdout",
          "output_type": "stream",
          "text": [
            "tensor i64 3\n",
            "tensor[28, 28] n=784 (3.1Kb) x∈[0., 254.000] μ=36.413 σ=82.682\n"
          ]
        }
      ],
      "source": [
        "import matplotlib.pyplot as plt\n",
        "plt.imshow(X_train[10, :, :])\n",
        "plt.show()\n",
        "print(y_train[10])\n",
        "print(X_train[10])"
      ]
    },
    {
      "cell_type": "markdown",
      "metadata": {
        "id": "seEtWDoDOnSU"
      },
      "source": [
        "Before we continue, our data should be normalized. Right now we have image data that was stored in int8 (from 0 to 255), and after transforming it to float, it still is in the same range.\n",
        "\n",
        "What we want is the data that has 0 mean and 1 variance.\n",
        "\n",
        "**Task**\n",
        "Scale and center your data so that it has 0 mean and 1 variance.\n",
        "\n",
        "To calculate mean and standard deviation of colors, use only training dataset!"
      ]
    },
    {
      "cell_type": "code",
      "execution_count": 16,
      "metadata": {
        "colab": {
          "base_uri": "https://localhost:8080/"
        },
        "id": "E2dH5IGnOnSU",
        "outputId": "03efc686-29a8-4bda-cb95-25e39fd24003"
      },
      "outputs": [
        {
          "name": "stdout",
          "output_type": "stream",
          "text": [
            "tensor 33.318 tensor 78.567\n",
            "tensor[60000, 28, 28] n=47040000 (0.2Gb) x∈[-0.424, 2.822] μ=1.889e-08 σ=1.000\n",
            "tensor[10000, 28, 28] n=7840000 (30Mb) x∈[-0.427, 2.794] μ=-4.670e-08 σ=1.000\n"
          ]
        }
      ],
      "source": [
        "mean = X_train.mean()\n",
        "std = X_train.std()\n",
        "print(mean,std)\n",
        "X_train = (X_train - mean)/std\n",
        "X_test = (X_test - X_test.mean()) / X_test.std()\n",
        "## YOUR CODE HERE\n",
        "\n",
        "answer['X_train.mean'] = mean.detach().numpy()\n",
        "answer['X_train.std'] = std.detach().numpy()\n",
        "\n",
        "answer['X_train_normalized.mean'] = X_train.mean().detach().numpy()\n",
        "answer['X_train_normalized.std'] = X_train.std().detach().numpy()\n",
        "\n",
        "answer['X_test_normalized.mean'] = X_test.mean().detach().numpy()\n",
        "answer['X_test_normalized.std'] = X_test.std().detach().numpy()\n",
        "\n",
        "print(X_train)\n",
        "print(X_test)"
      ]
    },
    {
      "cell_type": "markdown",
      "metadata": {
        "id": "k6Nz1eOcOnSV"
      },
      "source": [
        "Now we should turn our data into vectors to be able to perform forward propagation.\n",
        "\n",
        "For that we will take the last two dimensions and squeeze them into one. This is done using `reshape` method.\n",
        "\n",
        "Note that after that tensor can be turned back using reshape command again.\n",
        "\n",
        "Your initial tensor has shape $N \\times 28 \\times 28$, you have to turn it to $N \\times 28^2$"
      ]
    },
    {
      "cell_type": "code",
      "execution_count": 17,
      "metadata": {
        "colab": {
          "base_uri": "https://localhost:8080/"
        },
        "id": "IUZgNg7zpS3j",
        "outputId": "71686191-f1d5-4c81-f4ed-f6522f4a71d6"
      },
      "outputs": [
        {
          "name": "stdout",
          "output_type": "stream",
          "text": [
            "torch.Size([60000, 784]) torch.Size([10000, 784])\n"
          ]
        }
      ],
      "source": [
        "\n",
        "X_train = X_train.reshape(X_train.shape[0], -1)\n",
        "X_test = X_test.reshape(X_test.shape[0], -1)\n",
        "\n",
        "answer['X_train.shape2'] = X_train.shape\n",
        "answer['X_test.shape2'] = X_test.shape\n",
        "\n",
        "print(X_train.shape, X_test.shape)\n",
        "\n",
        "\n"
      ]
    },
    {
      "cell_type": "markdown",
      "metadata": {
        "id": "WSPq9Y-4OnSV"
      },
      "source": [
        "# Task 2: Build a network"
      ]
    },
    {
      "cell_type": "markdown",
      "metadata": {
        "id": "Ged0FTJwOnSV"
      },
      "source": [
        "It is time to create our neural network.\n",
        "\n",
        "In pytorch to enable all the magic for training, people enherit their models from `torch.nn.Module`.\n",
        "\n",
        "This enables many utilities that will be used in the future.\n",
        "\n",
        "The main two methods that we have to fill are:\n",
        "- `__init__` method that creates all modules of Neural Network\n",
        "- `__call__` method that is used to calculate preditions\n",
        "\n",
        "Here is the network that you should create:\n",
        "- it should have the structure:\n",
        "    - Linear `28 * 28 -> n_hidden_neurons`\n",
        "    - Sigmoid\n",
        "    - Linear `n_hidden_neurons -> 10`\n",
        "- the signals that you create should traverse the initialized modules according to the order above\n",
        "\n",
        "Note that in theory, we should use a SoftMax activation in the end of this network. But in our case, this activation will be joined with the loss function due to mathematical reasons."
      ]
    },
    {
      "cell_type": "code",
      "execution_count": 18,
      "metadata": {
        "id": "k7l65slppS3l"
      },
      "outputs": [],
      "source": [
        "class MNISTNet(torch.nn.Module):\n",
        "    def __init__(self, n_hidden_neurons):\n",
        "        super().__init__()\n",
        "        self.fc1 = torch.nn.Linear(28 * 28, n_hidden_neurons)\n",
        "        self.ac1 = torch.nn.Sigmoid()\n",
        "        self.fc2 = torch.nn.Linear(n_hidden_neurons,10)\n",
        "        ## YOUR CODE HERE\n",
        "\n",
        "    def __call__(self, signal):\n",
        "        sig1 = self.fc1(signal)\n",
        "        sig2 = self.ac1(sig1)\n",
        "        sig3 = self.fc2(sig2)\n",
        "        signal = sig3\n",
        "        return signal"
      ]
    },
    {
      "cell_type": "markdown",
      "metadata": {
        "id": "ib7Y-s58OnSV"
      },
      "source": [
        "Let us check that your network actually works"
      ]
    },
    {
      "cell_type": "code",
      "execution_count": 19,
      "metadata": {
        "id": "AIpGdxsJOnSV"
      },
      "outputs": [],
      "source": [
        "mnist_net = MNISTNet(100)\n",
        "check_input = torch.randn(10, 28 * 28)\n",
        "check_output = mnist_net(check_input)\\\n",
        "\n",
        "answer['check_result'] = check_output.detach().numpy()"
      ]
    },
    {
      "cell_type": "markdown",
      "metadata": {
        "id": "GjKGCVRvOnSV"
      },
      "source": [
        "# Task 3: Create loss function and optimizer\n",
        "\n"
      ]
    },
    {
      "cell_type": "markdown",
      "metadata": {
        "id": "mJPwZV_HOnSV"
      },
      "source": [
        "Now you have to make a loss function (Cross Entropy with SoftMax in our case) and an optimizer (`AdamW` with learning rate `lr`)"
      ]
    },
    {
      "cell_type": "code",
      "execution_count": 20,
      "metadata": {
        "id": "00_2j2igpS3o"
      },
      "outputs": [],
      "source": [
        "loss = torch.nn.CrossEntropyLoss()\n",
        "optimizer = torch.optim.AdamW(mnist_net.parameters(), lr=0.001)"
      ]
    },
    {
      "cell_type": "code",
      "execution_count": 21,
      "metadata": {
        "colab": {
          "base_uri": "https://localhost:8080/"
        },
        "id": "8TIp11zVOnSV",
        "outputId": "6c85cb00-23dc-4584-a53e-d9b22d75ee6b"
      },
      "outputs": [
        {
          "name": "stdout",
          "output_type": "stream",
          "text": [
            "CrossEntropyLoss()\n",
            "AdamW (\n",
            "Parameter Group 0\n",
            "    amsgrad: False\n",
            "    betas: (0.9, 0.999)\n",
            "    capturable: False\n",
            "    differentiable: False\n",
            "    eps: 1e-08\n",
            "    foreach: None\n",
            "    fused: None\n",
            "    lr: 0.001\n",
            "    maximize: False\n",
            "    weight_decay: 0.01\n",
            ")\n"
          ]
        }
      ],
      "source": [
        "answer['loss'] = str(loss)\n",
        "answer['optimizer'] = str(optimizer)\n",
        "\n",
        "print(loss)\n",
        "print(optimizer)"
      ]
    },
    {
      "cell_type": "markdown",
      "metadata": {
        "id": "0zhz0AVFOnSV"
      },
      "source": [
        "# Task 4: Train the network"
      ]
    },
    {
      "cell_type": "markdown",
      "metadata": {
        "id": "xiGUYSDuOnSV"
      },
      "source": [
        "Now it is time to train the network\n",
        "\n",
        "I have already created a small loop that shuffles the data.\n",
        "\n",
        "Your task is to create a training cycle for one epoch with the following steps:\n",
        "1. extracts training input and lables from shuffled training data, batch after batch\n",
        "2. switches the network to training state (`model.train()`)(will be important for batchnorms and some other modules)\n",
        "2. generates predictions from the training inputs\n",
        "3. calculates loss function that compares the predictions to the targets\n",
        "4. do backpropagation\n",
        "5. make optimization step  with optimizer\n",
        "6. reset optimizer's gradients\n",
        "7. switches the network to validation state (`model.eval()`)\n",
        "\n",
        "After running one epoch, you should:\n",
        "- make prediction for train and test sets\n",
        "- calculate accuracy for the predictions for both sets\n",
        "- calculate loss function for the predictions for both sets\n",
        "\n",
        "Note that:\n",
        "- it is important to drop the last deficient batch, but we do not do it in this exercise\n",
        "- it is easy to get the class using the prediction vector as it corresponds to the output value with maximal logit"
      ]
    },
    {
      "cell_type": "code",
      "execution_count": 22,
      "metadata": {
        "colab": {
          "base_uri": "https://localhost:8080/"
        },
        "id": "wZtqiGvfpS3r",
        "outputId": "535e8643-e2e6-400c-9dcf-c1dc3bce281c"
      },
      "outputs": [
        {
          "name": "stderr",
          "output_type": "stream",
          "text": [
            "100%|██████████| 5/5 [00:07<00:00,  1.51s/it]\n"
          ]
        }
      ],
      "source": [
        "from tqdm import trange\n",
        "\n",
        "batch_size = 100\n",
        "\n",
        "test_accuracy_history = []\n",
        "test_loss_history = []\n",
        "\n",
        "train_accuracy_history = []\n",
        "train_loss_history = []\n",
        "\n",
        "# X_test = X_test.to(device)\n",
        "# y_test = y_test.to(device)\n",
        "\n",
        "for epoch in trange(5):\n",
        "    order = np.random.permutation(len(X_train))\n",
        "\n",
        "    for start_index in range(0, len(X_train), batch_size):\n",
        "        optimizer.zero_grad()\n",
        "        batch_indxs = order[start_index:start_index+batch_size]\n",
        "\n",
        "        batch_X = X_train[batch_indxs]\n",
        "        batch_y = y_train[batch_indxs]\n",
        "\n",
        "        mnist_net.train()\n",
        "        preds = mnist_net(batch_X)\n",
        "\n",
        "        loss_value = loss(preds, batch_y)\n",
        "        loss_value.backward()\n",
        "\n",
        "        optimizer.step()\n",
        "\n",
        "\n",
        "    ## YOUR EVALUATION CODE HERE\n",
        "    mnist_net.eval()\n",
        "    with torch.no_grad():\n",
        "        train_preds = mnist_net(X_train)\n",
        "        test_preds = mnist_net(X_test)\n",
        "\n",
        "        train_accuracy = (train_preds.argmax(dim=1) == y_train).float().mean()\n",
        "        test_accuracy = (test_preds.argmax(dim=1) == y_test).float().mean()\n",
        "\n",
        "        train_loss = loss(train_preds, y_train)\n",
        "        test_loss = loss(test_preds, y_test)\n",
        "\n",
        "\n",
        "    train_loss_history.append(loss(train_preds, y_train).detach().numpy())\n",
        "    train_accuracy_history.append(train_accuracy.detach().numpy())\n",
        "\n",
        "    test_loss_history.append(loss(test_preds, y_test).detach().numpy())\n",
        "    test_accuracy_history.append(test_accuracy.detach().numpy())\n"
      ]
    },
    {
      "cell_type": "code",
      "execution_count": 25,
      "metadata": {
        "colab": {
          "base_uri": "https://localhost:8080/",
          "height": 447
        },
        "id": "kLnumX3SpS3u",
        "outputId": "2abdc21c-c17f-466e-f958-9c81f072c2cb"
      },
      "outputs": [
        {
          "data": {
            "text/plain": [
              "[<matplotlib.lines.Line2D at 0x78a63e3c3310>]"
            ]
          },
          "execution_count": 25,
          "metadata": {},
          "output_type": "execute_result"
        },
        {
          "data": {
            "image/png": "[encoded data removed]",
            "text/plain": [
              "<Figure size 640x480 with 1 Axes>"
            ]
          },
          "metadata": {},
          "output_type": "display_data"
        }
      ],
      "source": [
        "plt.plot(train_accuracy_history)\n",
        "plt.plot(test_accuracy_history)"
      ]
    },
    {
      "cell_type": "code",
      "execution_count": 24,
      "metadata": {
        "colab": {
          "base_uri": "https://localhost:8080/",
          "height": 447
        },
        "id": "-nu1318JpS3y",
        "outputId": "7b884779-876b-452e-a74c-a71b1366559a"
      },
      "outputs": [
        {
          "data": {
            "text/plain": [
              "[<matplotlib.lines.Line2D at 0x78a63e3c0890>]"
            ]
          },
          "execution_count": 24,
          "metadata": {},
          "output_type": "execute_result"
        },
        {
          "data": {
            "image/png": "[encoded data removed]",
            "text/plain": [
              "<Figure size 640x480 with 1 Axes>"
            ]
          },
          "metadata": {},
          "output_type": "display_data"
        }
      ],
      "source": [
        "plt.plot(train_loss_history)\n",
        "plt.plot(test_loss_history)"
      ]
    },
    {
      "cell_type": "code",
      "execution_count": 26,
      "metadata": {
        "colab": {
          "base_uri": "https://localhost:8080/",
          "height": 192
        },
        "id": "xvAjm_5pOnSV",
        "outputId": "eb15a63e-5d76-4ea1-dcfe-1e5e0eec7277"
      },
      "outputs": [
        {
          "data": {
            "application/vnd.google.colaboratory.intrinsic+json": {
              "type": "string"
            },
            "text/plain": [
              "'{\"X_train.dtype\": \"torch.uint8\", \"y_train.dtype\": \"torch.int64\", \"X_train.shape\": [60000, 28, 28], \"X_test.shape\": [10000, 28, 28], \"y_train.shape\": [60000], \"y_test.shape\": [10000], \"X_train.dtype2\": \"torch.float32\", \"X_test.dtype2\": \"torch.float32\", \"X_train.mean\": {\"__ndarray__\": 33.31842041015625, \"dtype\": \"float32\", \"shape\": []}, \"X_train.std\": {\"__ndarray__\": 78.56748962402344, \"dtype\": \"float32\", \"shape\": []}, \"X_train_normalized.mean\": {\"__ndarray__\": 1.889183387504545e-08, \"dtype\": \"float32\", \"shape\": []}, \"X_train_normalized.std\": {\"__ndarray__\": 1.0, \"dtype\": \"float32\", \"shape\": []}, \"X_test_normalized.mean\": {\"__ndarray__\": -4.669500697218609e-08, \"dtype\": \"float32\", \"shape\": []}, \"X_test_normalized.std\": {\"__ndarray__\": 0.9999999403953552, \"dtype\": \"float32\", \"shape\": []}, \"X_train.shape2\": [60000, 784], \"X_test.shape2\": [10000, 784], \"check_result\": {\"__ndarray__\": [[-0.5284736752510071, -0.28433123230934143, -0.16452448070049286, 0.52170330286026, 0.12320193648338318, 0.2524469792842865, 0.23363420367240906, 0.16277141869068146, 0.2811759114265442, 0.23872430622577667], [-0.4727971851825714, 0.03198329359292984, -0.1593957096338272, 0.33085715770721436, 0.35594502091407776, 0.223953515291214, 0.3469781279563904, 0.4966033101081848, -0.004836877807974815, 0.14647625386714935], [-0.5591830611228943, -0.20954562723636627, -0.15501807630062103, 0.41559091210365295, 0.18030387163162231, 0.30282509326934814, 0.2603289783000946, 0.5094760656356812, 0.21405193209648132, 0.03407886251807213], [-0.3659631311893463, -0.20286665856838226, -0.0632215142250061, 0.39056432247161865, 0.22102363407611847, 0.25645098090171814, 0.2074624001979828, 0.2582606375217438, 0.09037281572818756, 0.0575953833758831], [-0.5388919115066528, -0.18651382625102997, 0.0047307610511779785, 0.4038562476634979, 0.16434726119041443, 0.13844197988510132, 0.233506441116333, 0.4336419105529785, 0.3061094582080841, 0.0651845782995224], [-0.35595953464508057, -0.29504430294036865, -0.1450907588005066, 0.3212336301803589, 0.24415521323680878, 0.21203771233558655, 0.1681729555130005, 0.286795049905777, 0.19537106156349182, 0.021602418273687363], [-0.3682769238948822, -0.1362626999616623, -0.15693877637386322, 0.3614793121814728, 0.0903809517621994, 0.12489054352045059, 0.22610771656036377, 0.37316542863845825, 0.1850583851337433, 0.009090133011341095], [-0.42769065499305725, -0.24405832588672638, -0.013620126992464066, 0.35681623220443726, 0.09693393856287003, 0.15620765089988708, 0.2734042704105377, 0.31878671050071716, 0.1436334103345871, 0.11013196408748627], [-0.4090876281261444, -0.17423748970031738, -0.18156035244464874, 0.4651648998260498, 0.20244045555591583, 0.1443854570388794, 0.18222856521606445, 0.2644486725330353, 0.215073361992836, 0.00808708369731903], [-0.45661428570747375, -0.2944633364677429, -0.10122030973434448, 0.42570626735687256, 0.20084325969219208, 0.27408233284950256, 0.21602189540863037, 0.39435482025146484, 0.15909652411937714, 0.09539322555065155]], \"dtype\": \"float32\", \"shape\": [10, 10], \"Corder\": true}, \"loss\": \"CrossEntropyLoss()\", \"optimizer\": \"AdamW (\\\\nParameter Group 0\\\\n    amsgrad: False\\\\n    betas: (0.9, 0.999)\\\\n    capturable: False\\\\n    differentiable: False\\\\n    eps: 1e-08\\\\n    foreach: None\\\\n    fused: None\\\\n    lr: 0.001\\\\n    maximize: False\\\\n    weight_decay: 0.01\\\\n)\", \"train_loss_histoory\": [{\"__ndarray__\": 0.24486953020095825, \"dtype\": \"float32\", \"shape\": []}, {\"__ndarray__\": 0.17343337833881378, \"dtype\": \"float32\", \"shape\": []}, {\"__ndarray__\": 0.13547495007514954, \"dtype\": \"float32\", \"shape\": []}, {\"__ndarray__\": 0.10944828391075134, \"dtype\": \"float32\", \"shape\": []}, {\"__ndarray__\": 0.09205318987369537, \"dtype\": \"float32\", \"shape\": []}], \"test_loss_history\": [{\"__ndarray__\": 0.24785932898521423, \"dtype\": \"float32\", \"shape\": []}, {\"__ndarray__\": 0.18491654098033905, \"dtype\": \"float32\", \"shape\": []}, {\"__ndarray__\": 0.15302784740924835, \"dtype\": \"float32\", \"shape\": []}, {\"__ndarray__\": 0.13212649524211884, \"dtype\": \"float32\", \"shape\": []}, {\"__ndarray__\": 0.11830922961235046, \"dtype\": \"float32\", \"shape\": []}], \"train_acc_history\": [{\"__ndarray__\": 0.932533323764801, \"dtype\": \"float32\", \"shape\": []}, {\"__ndarray__\": 0.9518833160400391, \"dtype\": \"float32\", \"shape\": []}, {\"__ndarray__\": 0.9625666737556458, \"dtype\": \"float32\", \"shape\": []}, {\"__ndarray__\": 0.9706833362579346, \"dtype\": \"float32\", \"shape\": []}, {\"__ndarray__\": 0.9758666753768921, \"dtype\": \"float32\", \"shape\": []}], \"test_ann_history\": [{\"__ndarray__\": 0.930899977684021, \"dtype\": \"float32\", \"shape\": []}, {\"__ndarray__\": 0.9455999732017517, \"dtype\": \"float32\", \"shape\": []}, {\"__ndarray__\": 0.9549999833106995, \"dtype\": \"float32\", \"shape\": []}, {\"__ndarray__\": 0.9602000117301941, \"dtype\": \"float32\", \"shape\": []}, {\"__ndarray__\": 0.9653000235557556, \"dtype\": \"float32\", \"shape\": []}]}'"
            ]
          },
          "execution_count": 26,
          "metadata": {},
          "output_type": "execute_result"
        }
      ],
      "source": [
        "answer['train_loss_histoory'] = train_loss_history\n",
        "answer['test_loss_history'] = test_loss_history\n",
        "answer['train_acc_history'] = train_accuracy_history\n",
        "answer['test_ann_history'] = test_accuracy_history\n",
        "\n",
        "json_tricks.dump(answer, '.answer.json')"
      ]
    },
    {
      "cell_type": "markdown",
      "metadata": {
        "id": "mGrsLz8WOnSV"
      },
      "source": [
        "# Making the network deep"
      ]
    },
    {
      "cell_type": "markdown",
      "metadata": {
        "id": "dXnY2A_xOnSV"
      },
      "source": [
        "We have built a network and a training cycle for it. And it works!\n",
        "\n",
        "In the next exercises we will create all the modules that are required to build deep networks. We will also use batchnormalization in these modules and experiment with them."
      ]
    },
    {
      "cell_type": "markdown",
      "metadata": {
        "id": "PoPj9nGpOnSW"
      },
      "source": [
        "# Task 5. Create LinAct block\n",
        "\n",
        "Create a module that contains `torch.Sequential` module with:\n",
        "- Linear layer `n_channels -> n_channels`\n",
        "- Activation function (that is set to `Sigmoid` by default)\n",
        "\n",
        "Create a module `NoResidual` that is able to wrap a block of the network. It should work just like the original module, and its purpose is that we will replace it with `Residual` block in the future.\n",
        "\n",
        "After that, create DeepMNISTNet. This network should contain:\n",
        "- A Linear adapter module to project $28 \\times 28$ pixels to `n_channels`\n",
        "- `n_layers` instances of wrappers, each wrapping 2 sequential `block`-s (with correct number of channels and correct activation function)\n",
        "- A final classifier linear module that projects the signal of `n_channels` to number of classes (10 in our case)"
      ]
    },
    {
      "cell_type": "code",
      "execution_count": null,
      "metadata": {
        "id": "05BcsaHnOnSW"
      },
      "outputs": [],
      "source": [
        "class LinAct(torch.nn.Module):\n",
        "    def __init__(\n",
        "        self,\n",
        "        num_channels,\n",
        "        activation_fn=torch.nn.Sigmoid):\n",
        "\n",
        "        ...\n",
        "        ## YOUR CODE HERE\n",
        "\n",
        "\n",
        "    def __call__(self, signal):\n",
        "        ...\n",
        "        ## YOUR CODE HERE\n",
        "        return signal\n",
        "\n",
        "\n",
        "class NoResidual(torch.nn.Module):\n",
        "    def __init__(self, module):\n",
        "        ...\n",
        "        ## YOUR CODE HERE\n",
        "\n",
        "    def __call__(self, signal):\n",
        "        ...\n",
        "        ## YOUR CODE HERE\n",
        "        return signal\n",
        "\n",
        "\n",
        "class DeepMNISTNet(torch.nn.Module):\n",
        "    def __init__(\n",
        "            self,\n",
        "            n_channels,\n",
        "            n_layers,\n",
        "            block=LinAct,\n",
        "            wrapper=NoResidual,\n",
        "            activation_fn=torch.nn.Sigmoid):\n",
        "        super().__init__()\n",
        "\n",
        "        ...\n",
        "        ## YOUR CODE HERE\n",
        "\n",
        "    def __call__(self, signal):\n",
        "        ...\n",
        "        ## YOUR CODE HERE\n",
        "        return signal"
      ]
    },
    {
      "cell_type": "code",
      "execution_count": null,
      "metadata": {
        "id": "6BUSh0TPOnSW"
      },
      "outputs": [],
      "source": [
        "model = DeepMNISTNet(\n",
        "    n_channels=28*28,\n",
        "    n_layers=4)\n",
        "\n",
        "test_input = torch.zeros([10, 28 * 28])\n",
        "test_output = model(test_input)\n",
        "\n",
        "answer['model_deep'] = str(model)\n",
        "answer['test_output_deep'] = test_output.detach().numpy()"
      ]
    },
    {
      "cell_type": "markdown",
      "metadata": {
        "id": "tez5yCsEOnSW"
      },
      "source": [
        "# Task 6\n",
        "\n",
        "Build a residual wrapper.\n",
        "\n",
        "This layer should wrap any specified module, and the main idea of it should be that if the module works like $\\mathbf f(\\mathbf x)$, then wrapped in residual layer, it should work like $\\mathbf f(\\mathbf x) + \\mathbf x$\n",
        "\n",
        "So, the main question here is how to implement `__call__` method"
      ]
    },
    {
      "cell_type": "code",
      "execution_count": null,
      "metadata": {
        "id": "Q8heOf6pOnSW"
      },
      "outputs": [],
      "source": [
        "class Residual(torch.nn.Module):\n",
        "    def __init__(self, model):\n",
        "        ...\n",
        "        ## YOUR CODE HERE\n",
        "\n",
        "    def __call__(self, signal):\n",
        "        ...\n",
        "        ## YOUR CODE HERE\n",
        "        return signal\n"
      ]
    },
    {
      "cell_type": "code",
      "execution_count": null,
      "metadata": {
        "id": "LmQ6EePNOnSc"
      },
      "outputs": [],
      "source": [
        "model = DeepMNISTNet(\n",
        "    n_channels=28*28,\n",
        "    n_layers=4,\n",
        "    wrapper=Residual\n",
        ")\n",
        "\n",
        "test_input = torch.randn([10, 28 * 28])\n",
        "test_output = model(test_input)\n",
        "\n",
        "answer['model_deep_residual'] = str(model)\n",
        "answer['test_output_deep_residual'] = test_output.detach().numpy()"
      ]
    },
    {
      "cell_type": "markdown",
      "metadata": {
        "id": "Xxh_Vkh9OnSc"
      },
      "source": [
        "# Task 7\n",
        "\n",
        "Build a LinNormAct block that is similar to `LinAct`, but has a normalization module before activation function:\n",
        "- `torch.nn.Linear`\n",
        "- `torch.nn.BatchNorm1d`\n",
        "- activation function"
      ]
    },
    {
      "cell_type": "code",
      "execution_count": null,
      "metadata": {
        "id": "sJQ2NwEOOnSc"
      },
      "outputs": [],
      "source": [
        "class LinNormAct(torch.nn.Module):\n",
        "    def __init__(\n",
        "        self,\n",
        "        num_channels,\n",
        "        activation_fn=torch.nn.Sigmoid):\n",
        "\n",
        "        ...\n",
        "        ## YOUR CODE HERE\n",
        "\n",
        "    def __call__(self, signal):\n",
        "        return signal\n",
        "\n",
        "\n",
        "model = DeepMNISTNet(\n",
        "    n_channels=28*28,\n",
        "    n_layers=4,\n",
        "    wrapper=Residual,\n",
        "    block=LinNormAct\n",
        ")\n",
        "\n",
        "test_input = torch.randn([10, 28 * 28])\n",
        "test_output = model(test_input)\n",
        "\n",
        "answer['model_deep_residual_linnormact'] = str(model)\n",
        "answer['test_output_deep_residual_linnormact'] = test_output.detach().numpy()"
      ]
    },
    {
      "cell_type": "code",
      "execution_count": null,
      "metadata": {
        "id": "tUrEOLckOnSc"
      },
      "outputs": [],
      "source": [
        "from pprint import pprint\n",
        "\n",
        "json_tricks.dump(answer, '.answer.json')"
      ]
    },
    {
      "cell_type": "markdown",
      "metadata": {
        "id": "1-DgstZLOnSc"
      },
      "source": [
        "# Congratulations\n",
        "\n",
        "Here, obligatory part ends. With it, we have prepared the basic script to train our neural network.\n",
        "\n",
        "Nevertheless, we can do a lot of interesting experiments now:\n",
        "\n",
        "- for 100 epochs check, how does the training process go\n",
        "- check, how does the training process go for `n_layers = 1, 2, 4, 8, 16`\n",
        "- for `n_layers=16`, check, whether the network trains with and without residual connections\n",
        "- for the network with `n_layers=16`, add batch normalization layer, and check how the network trains with and without batch normalization\n",
        "- additionally, you can make bottleneck blocks out of residual blocks. Check, how much more are they efficient and how much does the quality drop when the size of internal representation is squeezed twice: `N -> N/2 -> N`\n",
        "- for the best network, add learning rate scheduling such as reduce LR on Plateau\n",
        "- for the best network, use AdamW with LookAhead (can be found as a separate package)\n",
        "\n",
        "To run these experiments, just take your training procedure that we have created, and substitute the model with a model of the interest.\n",
        "\n",
        "With such a simple networks, the experiments potentially can be run on the local machine, but I would recommend uploading this notebook to `Google Colab` and using a GPU (it may cost around 5$/month)\n",
        "\n",
        "Note that to use `CUDA` for your experiments, you have to\n",
        "- move model to `cuda` device using `.cuda()` or `.to()` methods\n",
        "- move batch tensors to `cuda` device the same way\n",
        "\n",
        "To report your results, you can use matplotlib, but there is a better options for machine learning. There are logging systems for ML that are called:\n",
        "- tensorboard\n",
        "- mlflow\n",
        "- weights and biases\n",
        "- neptune ai\n",
        "- and others\n",
        "\n",
        "I would recommend using the first two and maybe the third one. Tensorboard is a powerful tool to visualize the progress of your training process, while mlflow is a nice tool for journaling the experiments"
      ]
    },
    {
      "cell_type": "markdown",
      "metadata": {
        "id": "pIarNRvnOnSc"
      },
      "source": [
        "You can check your solutions submitting your results here:\n",
        "\n",
        "https://www.kaggle.com/competitions/digit-recognizer"
      ]
    }
  ],
  "metadata": {
    "accelerator": "GPU",
    "colab": {
      "provenance": []
    },
    "kernelspec": {
      "display_name": "Python 3",
      "language": "python",
      "name": "python3"
    },
    "language_info": {
      "codemirror_mode": {
        "name": "ipython",
        "version": 3
      },
      "file_extension": ".py",
      "mimetype": "text/x-python",
      "name": "python",
      "nbconvert_exporter": "python",
      "pygments_lexer": "ipython3",
      "version": "3.11.12"
    }
  },
  "nbformat": 4,
  "nbformat_minor": 0
}
