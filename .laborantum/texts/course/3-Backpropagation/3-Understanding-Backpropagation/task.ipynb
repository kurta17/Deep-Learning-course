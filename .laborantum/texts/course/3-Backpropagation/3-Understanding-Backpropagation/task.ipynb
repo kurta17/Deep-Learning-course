{
    "cells": [
        {
            "cell_type": "code",
            "execution_count": 3,
            "metadata": {},
            "outputs": [],
            "source": [
                "import json_tricks\n",
                "answer = {}\n",
                "\n",
                "\n",
                "inputs = json_tricks.load(open('inputs.json', 'r'))"
            ]
        },
        {
            "cell_type": "markdown",
            "metadata": {},
            "source": [
                "# Backpropagaion Practice"
            ]
        },
        {
            "cell_type": "markdown",
            "metadata": {},
            "source": [
                "You are given a graph of operations:"
            ]
        },
        {
            "cell_type": "markdown",
            "metadata": {},
            "source": [
                "<img src=\"imgs/task_2_4_graph_02.png\" width=\"400\" height=\"300\" />"
            ]
        },
        {
            "cell_type": "markdown",
            "metadata": {},
            "source": [
                "# Task 1\n",
                "\n",
                "Write function that calculates value of this graph for any given input vector `x` and set of coefficients $b_1, b_2, c_1, c_2$ packed as vector of weights `w`.\n",
                "In this function also return all the $z$ values."
            ]
        },
        {
            "cell_type": "code",
            "execution_count": null,
            "metadata": {},
            "outputs": [],
            "source": [
                "import numpy as np\n",
                "\n",
                "## YOU CAN DEFINE ANY FUNCTIONS YOU NEED ##\n",
                "\n",
                "def sigmoid(x):\n",
                "    return 1 / (1 + np.exp(-x))\n",
                "\n",
                "def tanh(x):\n",
                "    return np.tanh(x)\n",
                "\n",
                "\n",
                "def graph_value(x, w):\n",
                "    x1 = x[0]\n",
                "    x2 = x[1]\n",
                "\n",
                "    b1 = w[0]\n",
                "    b2 = w[1]\n",
                "    c1 = w[2]\n",
                "    c2 = w[3]\n",
                "\n",
                "    z1 = x1 + b1\n",
                "    z2 = x2 + b2\n",
                "    z3 = sigmoid(z1)\n",
                "    z4 = sigmoid(z2)\n",
                "    z5 = tanh(z2)\n",
                "    z6 = z5 * c2\n",
                "    z7 = z4 * z1\n",
                "    z8 = c1 * z7\n",
                "    z9 = z3 + z6\n",
                "    y = z8 + z9\n",
                "    \n",
                "    z = [z1, z2, z3, z4, z5, z6, z7, z8, z9]\n",
                "    \n",
                "    return y, z"
            ]
        },
        {
            "cell_type": "markdown",
            "metadata": {},
            "source": [
                "<img src=\"imgs/task_2_4_graph_02.png\" width=\"400\" height=\"300\" />"
            ]
        },
        {
            "cell_type": "code",
            "execution_count": 5,
            "metadata": {},
            "outputs": [],
            "source": [
                "answer['graph_value'] = [graph_value(**input) for input in inputs]"
            ]
        },
        {
            "cell_type": "markdown",
            "metadata": {},
            "source": [
                "# Task 2\n",
                "\n",
                "In this graph, find all derivative of all the values over $z$ or $x$ or $w$.\n",
                "\n",
                "Write the result in form of dictionary, for example, $\\partial_{z_9} y$:\n",
                "\n",
                "```\n",
                "['dy_dz9'] = 1\n",
                "```"
            ]
        },
        {
            "cell_type": "code",
            "execution_count": null,
            "metadata": {},
            "outputs": [],
            "source": [
                "def graph_derivatives(x, w):\n",
                "    res = {}\n",
                "    y, z = graph_value(x, w)\n",
                "\n",
                "    x1 = x[0]\n",
                "    x2 = x[1]\n",
                "\n",
                "    b1 = w[0]\n",
                "    b2 = w[1]\n",
                "    c1 = w[2]\n",
                "    c2 = w[3]\n",
                "\n",
                "    z1 = z[0]  \n",
                "    z2 = z[1]  \n",
                "    z3 = z[2]  \n",
                "    z4 = z[3]  \n",
                "    z5 = z[4]  \n",
                "    z6 = z[5]  \n",
                "    z7 = z[6]  \n",
                "    z8 = z[7]  \n",
                "    z9 = z[8]  \n",
                "\n",
                "\n",
                "    #forward pass\n",
                "    # dz1 = x1 + b1 \n",
                "    res['dz1_db1'] = 1\n",
                "    res['dz1_dx1'] = 1\n",
                "\n",
                "    # dz2 = x2 + b2\n",
                "    res['dz2_db2'] = 1\n",
                "    res['dz2_dx2'] = 1\n",
                "\n",
                "    # dz3 = sigmoid(z1)\n",
                "    res['dz3_dz1'] = z3 * (1 - z3)\n",
                "\n",
                "    # dz4 = sigmoid(z2)\n",
                "    res['dz4_dz2'] = z4 * (1 - z4)\n",
                "\n",
                "    # dz5 = tanh(z2)\n",
                "    res['dz5_dz2'] = 1 - z5**2\n",
                "\n",
                "    # dz6 = z5 * c2\n",
                "    res['dz6_dz5'] = c2\n",
                "    res['dz6_dc2'] = z5\n",
                "\n",
                "    # dz7 = z4 * z1\n",
                "    res['dz7_dz4'] = z1\n",
                "    res['dz7_dz1'] = z4\n",
                "    # dz8 = c1 * z7\n",
                "    res['dz8_dz7'] = c1\n",
                "    res['dz8_dc1'] = z7\n",
                "\n",
                "    # dz9 = z3 + z6\n",
                "    res['dz9_dz3'] = 1\n",
                "    res['dz9_dz6'] = 1\n",
                "\n",
                "\n",
                "\n",
                "    # backward pass\n",
                "    # y = z8 + z9\n",
                "    res['dy_dz9'] = 1\n",
                "    res['dy_dz8'] = 1\n",
                "\n",
                "    # z9 = z3 + z6\n",
                "    res['dy_dz3'] = res['dy_dz9'] * 1\n",
                "    res['dy_dz6'] = res['dy_dz9'] * 1\n",
                "\n",
                "    # z8 = c1 * z7\n",
                "    res['dy_dz7'] = res['dy_dz8'] * c1\n",
                "    res['dy_dc1'] = res['dy_dz8'] * z7\n",
                "\n",
                "    # z7 = z4 * z1\n",
                "    res['dy_dz4'] = res['dy_dz7'] * z1\n",
                "    res['dy_dz1'] = res['dy_dz7'] * z4\n",
                "\n",
                "    # z6 = z5 * c2\n",
                "    res['dy_dz5'] = res['dy_dz6'] * c2\n",
                "    res['dy_dc2'] = res['dy_dz6'] * z5\n",
                "\n",
                "    # z5 = tanh(z2)\n",
                "    res['dy_dz2'] = res['dy_dz5'] * (1 - z5**2)\n",
                "\n",
                "    # z4 = sigmoid(z2)\n",
                "    res['dy_dz2'] += res['dy_dz4'] * z4 * (1 - z4)\n",
                "\n",
                "    # z3 = sigmoid(z1)\n",
                "    res['dy_dz1'] += res['dy_dz3'] * z3 * (1 - z3)\n",
                "\n",
                "    # z2 = x2 + b2\n",
                "    res['dy_db2'] = res['dy_dz2'] * 1\n",
                "    res['dy_dx2'] = res['dy_dz2'] * 1\n",
                "\n",
                "    # z1 = x1 + b1\n",
                "    res['dy_db1'] = res['dy_dz1'] * 1\n",
                "    res['dy_dx1'] = res['dy_dz1'] * 1\n",
                "\n",
                "\n",
                "    return res"
            ]
        },
        {
            "cell_type": "code",
            "execution_count": 9,
            "metadata": {},
            "outputs": [],
            "source": [
                "answer['graph_derivatives'] = [graph_derivatives(**input) for input in inputs]"
            ]
        },
        {
            "cell_type": "markdown",
            "metadata": {},
            "source": [
                "# Task 3\n",
                "\n",
                "Using the values of the derivatives, calculated above:\n",
                "- extract a dictionary of values that are needed to calculate $\\partial_{c_1} y$\n",
                "- calculate that derivative"
            ]
        },
        {
            "cell_type": "code",
            "execution_count": null,
            "metadata": {},
            "outputs": [],
            "source": [
                "def dy_dc1(x, w):\n",
                "    selected_derivs = {}\n",
                "    dy_dc1 = 0\n",
                "\n",
                "    all_derivs = graph_derivatives(x, w)\n",
                "    selected_derivs['dy_dz8'] = all_derivs['dy_dz8']\n",
                "    selected_derivs['dz8_dc1'] = all_derivs['dz8_dc1']\n",
                "\n",
                "    dy_dc1 += all_derivs['dy_dz8'] * all_derivs['dz8_dc1']\n",
                "\n",
                "    return selected_derivs, dy_dc1"
            ]
        },
        {
            "cell_type": "code",
            "execution_count": 21,
            "metadata": {},
            "outputs": [],
            "source": [
                "answer['dy_dc1'] = [dy_dc1(**input) for input in inputs]"
            ]
        },
        {
            "cell_type": "markdown",
            "metadata": {},
            "source": [
                "# Task 4\n",
                "Using the values of the derivatives, calculated above:\n",
                "- extract a dictionary of values that are needed to calculate $\\partial_{c_2} y$\n",
                "- calculate that derivative"
            ]
        },
        {
            "cell_type": "code",
            "execution_count": null,
            "metadata": {},
            "outputs": [],
            "source": [
                "def dy_dc2(x, w):\n",
                "    selected_derivs = {}\n",
                "    dy_dc2 = 0\n",
                "\n",
                "    all_derivs = graph_derivatives(x, w)\n",
                "    selected_derivs['dy_dz9'] = all_derivs['dy_dz9']\n",
                "    selected_derivs['dz9_dz6'] = all_derivs['dz9_dz6']\n",
                "    selected_derivs['dz6_dc2'] = all_derivs['dz6_dc2']\n",
                "    dy_dc2 += all_derivs['dy_dz9'] * all_derivs['dz9_dz6'] * all_derivs['dz6_dc2']\n",
                "    \n",
                "    \n",
                "\n",
                "    return selected_derivs, dy_dc2"
            ]
        },
        {
            "cell_type": "code",
            "execution_count": 23,
            "metadata": {},
            "outputs": [],
            "source": [
                "answer['dy_dc2'] = [dy_dc2(**input) for input in inputs]"
            ]
        },
        {
            "cell_type": "markdown",
            "metadata": {},
            "source": [
                "# Task 5\n",
                "Using the values of the derivatives, calculated above:\n",
                "- extract a dictionary of values that are needed to calculate $\\partial_{b_1} y$\n",
                "- calculate that derivative"
            ]
        },
        {
            "cell_type": "code",
            "execution_count": null,
            "metadata": {},
            "outputs": [],
            "source": [
                "def dy_db1(x, w):\n",
                "    selected_derivs = {}\n",
                "    dy_db1 = 0\n",
                "\n",
                "    all_derivs = graph_derivatives(x, w)\n",
                "    selected_derivs['dy_dz9'] = all_derivs['dy_dz9']\n",
                "    selected_derivs['dz9_dz3'] = all_derivs['dz9_dz3']\n",
                "    selected_derivs['dz3_dz1'] = all_derivs['dz3_dz1']\n",
                "    selected_derivs['dz1_db1'] = all_derivs['dz1_db1']\n",
                "    selected_derivs['dy_dz8'] = all_derivs['dy_dz8']\n",
                "    selected_derivs['dz8_dz7'] = all_derivs['dz8_dz7']\n",
                "    selected_derivs['dz7_dz1'] = all_derivs['dz7_dz1']\n",
                "    selected_derivs['dz1_db1'] = all_derivs['dz1_db1']\n",
                "    \n",
                "    dy_db1 += (all_derivs['dy_dz9'] * all_derivs['dz9_dz3'] * all_derivs['dz3_dz1'] +\n",
                "               all_derivs['dy_dz8'] * all_derivs['dz8_dz7'] * all_derivs['dz7_dz1']) * all_derivs['dz1_db1']\n",
                "        \n",
                "    return selected_derivs, dy_db1"
            ]
        },
        {
            "cell_type": "code",
            "execution_count": 25,
            "metadata": {},
            "outputs": [],
            "source": [
                "answer['dy_db1'] = [dy_db1(**input) for input in inputs]"
            ]
        },
        {
            "cell_type": "markdown",
            "metadata": {},
            "source": [
                "# Task 6\n",
                "Using the values of the derivatives, calculated above:\n",
                "- extract a dictionary of values that are needed to calculate $\\partial_{b_2} y$\n",
                "- calculate that derivative"
            ]
        },
        {
            "cell_type": "code",
            "execution_count": null,
            "metadata": {},
            "outputs": [],
            "source": [
                "def dy_db2(x, w):\n",
                "    selected_derivs = {}\n",
                "    dy_db2 = 0\n",
                "\n",
                "    all_derivs = graph_derivatives(x, w)\n",
                "    selected_derivs['dy_dz8'] = all_derivs['dy_dz8']\n",
                "    selected_derivs['dz8_dz7'] = all_derivs['dz8_dz7']\n",
                "    selected_derivs['dz7_dz4'] = all_derivs['dz7_dz4']\n",
                "    selected_derivs['dz4_dz2'] = all_derivs['dz4_dz2']\n",
                "\n",
                "    selected_derivs['dy_dz9'] = all_derivs['dy_dz9']\n",
                "    selected_derivs['dz9_dz6'] = all_derivs['dz9_dz6']\n",
                "    selected_derivs['dz6_dz5'] = all_derivs['dz6_dz5']\n",
                "    selected_derivs['dz5_dz2'] = all_derivs['dz5_dz2']\n",
                "\n",
                "    selected_derivs['dz2_db2'] = all_derivs['dz2_db2']\n",
                "\n",
                "    dy_db2 += (all_derivs['dy_dz8'] * all_derivs['dz8_dz7'] * all_derivs['dz7_dz4'] * all_derivs['dz4_dz2'] +\n",
                "                all_derivs['dy_dz9'] * all_derivs['dz9_dz6'] * all_derivs['dz6_dz5'] * all_derivs['dz5_dz2']) * all_derivs['dz2_db2']\n",
                "                \n",
                "                \n",
                "    return selected_derivs, dy_db2"
            ]
        },
        {
            "cell_type": "code",
            "execution_count": 27,
            "metadata": {},
            "outputs": [],
            "source": [
                "answer['dy_db2'] = [dy_db2(**input) for input in inputs]"
            ]
        },
        {
            "cell_type": "code",
            "execution_count": 28,
            "metadata": {},
            "outputs": [],
            "source": [
                "json_tricks.dump(answer, '.answer.json')"
            ]
        }
    ],
    "metadata": {
        "kernelspec": {
            "display_name": "Python (Container)",
            "language": "python",
            "name": "container_env"
        },
        "language_info": {
            "codemirror_mode": {
                "name": "ipython",
                "version": 3
            },
            "file_extension": ".py",
            "mimetype": "text/x-python",
            "name": "python",
            "nbconvert_exporter": "python",
            "pygments_lexer": "ipython3",
            "version": "3.11.11"
        }
    },
    "nbformat": 4,
    "nbformat_minor": 2
}
